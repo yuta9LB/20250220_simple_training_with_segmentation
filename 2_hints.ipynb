{
 "cells": [
  {
   "cell_type": "markdown",
   "metadata": {},
   "source": [
    "# 必ず使用する機能"
   ]
  },
  {
   "cell_type": "markdown",
   "metadata": {},
   "source": [
    "## 重みの保存\n",
    "学習したモデルの重みは保存する必要がある  "
   ]
  },
  {
   "cell_type": "code",
   "execution_count": null,
   "metadata": {},
   "outputs": [],
   "source": [
    "torch.save(\n",
    "{\n",
    "    \"epoch\": epoch,\n",
    "    \"model_state_dict\": model.state_dict(),\n",
    "    \"optimizer_state_dict\": optimizer.state_dict(),\n",
    "    },\n",
    "    '/Path/to/chkp_path.pth'\n",
    ")"
   ]
  },
  {
   "cell_type": "markdown",
   "metadata": {},
   "source": [
    "## 重みの読み込み\n",
    "途中まで学習させていた重みを保存しておけば、あとからそれを読み込んで使用できる  \n",
    "それを使って推論するもよし、学習を再開するもよし"
   ]
  },
  {
   "cell_type": "code",
   "execution_count": null,
   "metadata": {},
   "outputs": [],
   "source": [
    "chkp_path = '/Path/to/chkp_path'  \n",
    "checkpoint = torch.load(chkp_path)  \n",
    "model.load_state_dict(checkpoint['model_state_dict'])"
   ]
  },
  {
   "cell_type": "markdown",
   "metadata": {},
   "source": [
    "# ディレクトリ構成図（一例）"
   ]
  },
  {
   "cell_type": "markdown",
   "metadata": {},
   "source": [
    "```\n",
    ".  \n",
    "└── sample_dir  \n",
    "    ├── model.py: モデルを定義するファイル（Unetなど）\n",
    "    ├── dataset.py: データセットを定義するファイル（データの読み込み・前処理なども）\n",
    "    ├── loss.py: 損失関数を定義するファイル\n",
    "    ├── train.py: 訓練ファイル\n",
    "    ├── plot_loss.py: 損失をプロットし、現在の訓練状況を確認するファイル\n",
    "    ├── test.py: 実際にモデルを読み込んで推論精度を可視化するファイル\n",
    "    ├── data\n",
    "    │   ├── traindata: 訓練データ\n",
    "    │   └── testdata: テストデータ\n",
    "    └── listfiles\n",
    "        ├── train.list: 訓練データ一覧\n",
    "        └── testdata: テストデータ一覧\n",
    "```"
   ]
  },
  {
   "cell_type": "markdown",
   "metadata": {},
   "source": [
    "# バックエンドで回す方法\n",
    "普通にターミナルで実行していると、そのターミナルを消した時に実行自体も止まってしまう  \n",
    "- `実行コマンド &`: 実行を裏で回す\n",
    "- **tmux**: 仮想端末を作成し、接続を切ったり作業を復旧したりできる\n",
    "- **byobu**: tmuxの進化Ver"
   ]
  },
  {
   "cell_type": "markdown",
   "metadata": {},
   "source": [
    "# 機械学習関連知識"
   ]
  },
  {
   "cell_type": "markdown",
   "metadata": {},
   "source": [
    "## 学習率\n",
    "機械学習モデルの訓練中にパラメータ（重み）を更新する際、どの程度の幅で変化させるかを決める重要なハイパーパラメータ  \n"
   ]
  },
  {
   "cell_type": "code",
   "execution_count": null,
   "metadata": {},
   "outputs": [],
   "source": [
    "# 学習率\n",
    "lr = 0.01"
   ]
  },
  {
   "cell_type": "markdown",
   "metadata": {},
   "source": [
    "## 過学習\n",
    "<img src='img/over_fitting.png'></img>  \n",
    "引用元: [zeroone[G検定（AI・機械学習）用語集]](https://zero2one.jp/ai-word/overfitting-2/)\n",
    "### 特徴\n",
    "- モデルが訓練データの細かいノイズや例外にまで適応しすぎ、汎化性能（新しいデータに対する予測力）が低下すること\n",
    "- 訓練データでの精度が非常に高い一方、テストデータでの精度が低くなること\n",
    "\n",
    "### 防ぐ方法\n",
    "- データを増やす\n",
    "- 正則化 (Regularization)\n",
    "- クロスバリデーション (Cross-Validation)\n",
    "- モデルの単純化\n"
   ]
  },
  {
   "cell_type": "markdown",
   "metadata": {},
   "source": [
    "## データ拡張 (Data Augmentation)\n",
    "元の訓練データをさまざまな方法で変形・加工することで、データの量を人工的に増やし、モデルの汎化性能を向上させる手法\n",
    "\n",
    "**画像の場合の手法**\n",
    "- 回転: 画像を一定の角度で回転させる。\n",
    "- 反転・フリップ: 左右や上下に画像を反転させる。\n",
    "- ズーム: 拡大・縮小を行う。\n",
    "- 平行移動: 画像を上下左右にずらす。\n",
    "- 色調変化: 明るさやコントラスト、色相などを変える。"
   ]
  },
  {
   "cell_type": "code",
   "execution_count": null,
   "metadata": {},
   "outputs": [],
   "source": [
    "# data_augmentation = Trueにすることデータアーギュメント\n",
    "data_augmentation = True\n",
    "\n",
    "# dataset.py\n",
    "# augment関数内でデータ拡張を行っている。今回は水平反転と回転。さらに追加してもOK\n",
    "def augment(self, img, gt):\n",
    "    # 同じシードでランダム変換を適用\n",
    "    seed = torch.randint(0, 2**32, (1,)).item()\n",
    "    \n",
    "    # ランダム水平反転\n",
    "    torch.manual_seed(seed)\n",
    "    img = self.random_flip(img)\n",
    "    torch.manual_seed(seed)\n",
    "    gt = self.random_flip(gt)\n",
    "    \n",
    "    # ランダム回転\n",
    "    torch.manual_seed(seed)\n",
    "    img = self.random_rotation(img)\n",
    "    torch.manual_seed(seed)\n",
    "    gt = self.random_rotation(gt)\n",
    "    \n",
    "    return img, gt"
   ]
  },
  {
   "cell_type": "markdown",
   "metadata": {},
   "source": [
    "## 正則化\n",
    "機械学習モデルの複雑さを抑えるために、モデルのパラメータに制約を加え、過学習を防ぐ手法  \n",
    "例）L1正則化（Lasso）、L2正則化（Ridge）"
   ]
  },
  {
   "cell_type": "code",
   "execution_count": null,
   "metadata": {},
   "outputs": [],
   "source": [
    "# weight_decayを入れることでL2正則化\n",
    "torch.optim.Adam(model.parameters(), lr=0.001, weight_decay=1e-4)"
   ]
  },
  {
   "cell_type": "markdown",
   "metadata": {},
   "source": [
    "## ドロップアウト（Dropout）\n",
    "正則化手法の一つで、訓練中にランダムに一部のノード（ニューロン）を無効にして学習を行う方法 "
   ]
  },
  {
   "cell_type": "code",
   "execution_count": null,
   "metadata": {},
   "outputs": [],
   "source": [
    "# ドロップアウト\n",
    "# pはドロップアウト率（0.2~0.5が一般的）\n",
    "nn.Dropout(p=0.5)"
   ]
  },
  {
   "cell_type": "markdown",
   "metadata": {},
   "source": [
    "# ヒント"
   ]
  },
  {
   "cell_type": "markdown",
   "metadata": {},
   "source": [
    "## クロスエントロピー損失のクラスごとの重み（weight）\n",
    "これを指定することで、各クラスごとの重みを指定することができる。  \n",
    "最初の値から順番に'CLASSES'の値を示す。  \n",
    "CLASSES = ['backgrounds','aeroplane','bicycle','bird','boat','bottle', 'bus','car' ,'cat','chair','cow', 'diningtable','dog','horse','motorbike','person', 'potted plant', 'sheep', 'sofa', 'train', 'monitor','unlabeld']"
   ]
  },
  {
   "cell_type": "code",
   "execution_count": null,
   "metadata": {},
   "outputs": [],
   "source": [
    "weight = torch.tensor([0.3, 1.0, 1.0, 1.0, 1.0, 1.0, 1.0, 1.0, 1.0, 1.0, 1.0, 1.0, 1.0, 1.0, 1.0, 1.0, 1.0, 1.0, 1.0, 1.0, 1.0, 0.5])"
   ]
  },
  {
   "cell_type": "markdown",
   "metadata": {},
   "source": [
    "## 損失関数の比率（dice_weight）"
   ]
  },
  {
   "cell_type": "code",
   "execution_count": null,
   "metadata": {},
   "outputs": [],
   "source": [
    "dice_weight = 0.5\n",
    "\n",
    "# util.py\n",
    "# class DiceCrossEntropyLoss\n",
    "# 複合損失の計算\n",
    "total_loss = (1 - self.dice_weight) * ce_loss + self.dice_weight * dice_loss"
   ]
  }
 ],
 "metadata": {
  "kernelspec": {
   "display_name": "gpgpu",
   "language": "python",
   "name": "python3"
  },
  "language_info": {
   "name": "python",
   "version": "3.10.12"
  }
 },
 "nbformat": 4,
 "nbformat_minor": 2
}
